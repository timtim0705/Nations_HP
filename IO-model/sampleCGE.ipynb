{
 "cells": [
  {
   "cell_type": "code",
   "execution_count": 15,
   "id": "3157a659",
   "metadata": {},
   "outputs": [],
   "source": [
    "import numpy as np"
   ]
  },
  {
   "cell_type": "code",
   "execution_count": 16,
   "id": "75deb404",
   "metadata": {},
   "outputs": [],
   "source": [
    "# define a sam\n",
    "sam = np.array([[-10., 5., 2., 3.], \n",
    "                [5., -20., 8., 7.], \n",
    "                [2., 10., -30., 18.], \n",
    "                [3., 5., 20., -28.]])"
   ]
  },
  {
   "cell_type": "code",
   "execution_count": 19,
   "id": "95331dfe",
   "metadata": {},
   "outputs": [
    {
     "data": {
      "text/plain": [
       "tuple"
      ]
     },
     "execution_count": 19,
     "metadata": {},
     "output_type": "execute_result"
    }
   ],
   "source": [
    "# sets as python tuples\n",
    "ind = ('Ag','Ma','Se') # industries\n",
    "hou = ('C') # household\n",
    "res = ('L') # labor"
   ]
  },
  {
   "cell_type": "code",
   "execution_count": 20,
   "id": "d13a1ebc",
   "metadata": {},
   "outputs": [],
   "source": [
    "rowh = tuple(list(ind)+list(res))\n",
    "colh = tuple(list(ind)+list(hou))"
   ]
  },
  {
   "cell_type": "code",
   "execution_count": null,
   "id": "dff6443a",
   "metadata": {},
   "outputs": [],
   "source": []
  }
 ],
 "metadata": {
  "kernelspec": {
   "display_name": "Python 3 (ipykernel)",
   "language": "python",
   "name": "python3"
  },
  "language_info": {
   "codemirror_mode": {
    "name": "ipython",
    "version": 3
   },
   "file_extension": ".py",
   "mimetype": "text/x-python",
   "name": "python",
   "nbconvert_exporter": "python",
   "pygments_lexer": "ipython3",
   "version": "3.9.7"
  }
 },
 "nbformat": 4,
 "nbformat_minor": 5
}
