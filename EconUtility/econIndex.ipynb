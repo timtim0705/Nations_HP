{
 "cells": [
  {
   "cell_type": "code",
   "execution_count": 1,
   "id": "bef36591",
   "metadata": {},
   "outputs": [],
   "source": [
    "from convertSolution import makeMap,convertSolution,cleanCSV"
   ]
  },
  {
   "cell_type": "code",
   "execution_count": 2,
   "id": "fcfbc3d7",
   "metadata": {},
   "outputs": [],
   "source": [
    "model_name = 'SolutionFile/basb-brrr-2024'\n",
    "variables=['vgdp:EV']\n",
    "csv_type='SES'"
   ]
  },
  {
   "cell_type": "code",
   "execution_count": 3,
   "id": "fecfa7a3",
   "metadata": {},
   "outputs": [],
   "source": [
    "makeMap(model_name, variables)\n",
    "convertSolution(model_name, csv_type)\n",
    "cleanCSV(model_name, csv_type)"
   ]
  },
  {
   "cell_type": "code",
   "execution_count": null,
   "id": "7fb4d830",
   "metadata": {},
   "outputs": [],
   "source": []
  }
 ],
 "metadata": {
  "kernelspec": {
   "display_name": "Python 3 (ipykernel)",
   "language": "python",
   "name": "python3"
  },
  "language_info": {
   "codemirror_mode": {
    "name": "ipython",
    "version": 3
   },
   "file_extension": ".py",
   "mimetype": "text/x-python",
   "name": "python",
   "nbconvert_exporter": "python",
   "pygments_lexer": "ipython3",
   "version": "3.9.7"
  }
 },
 "nbformat": 4,
 "nbformat_minor": 5
}
