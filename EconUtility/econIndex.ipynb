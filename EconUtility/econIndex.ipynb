{
 "cells": [
  {
   "cell_type": "code",
   "execution_count": 1,
   "id": "728d9fea",
   "metadata": {},
   "outputs": [],
   "source": [
    "import os\n",
    "import subprocess\n",
    "import sys\n",
    "import shutil"
   ]
  },
  {
   "cell_type": "code",
   "execution_count": 2,
   "id": "6d7e3b06",
   "metadata": {},
   "outputs": [],
   "source": [
    "def convertSolution(run_name, year, csv_type):      \n",
    "    # Calling sltoht.exe to convert .sl4 to .csv (See GEMPACK mannual 39.4 for details)\n",
    "    # Format: sltoht.exe -[CSV type] -map=[map file name].map [sl4 file name] [output file name].csv\n",
    "    subprocess.run(['sltoht.exe',\\\n",
    "                    '-' + csv_type,\\\n",
    "                    '-map=' + run_name + year + '.map',\\\n",
    "                    run_name + year,\\\n",
    "                    run_name + year + '.csv'])"
   ]
  },
  {
   "cell_type": "code",
   "execution_count": 3,
   "id": "b444da0f",
   "metadata": {},
   "outputs": [],
   "source": [
    "# Creates .map file via given variables\n",
    "# Note: variable of the form [var1:var2:var3:var4] will put var1-4 in a table as columns, while [var1, var2, var3, ...] will put each one in its own table.\n",
    "#       both format can be used together, [var1:var2:var3:var4] will simply be treated as a single item.\n",
    "# Example: [var1:var2:var3, var4, var5:var6] will put var1-3 side-by-side on the 1st table, var4 by itself on the 2nd, and var5-6 side-by-side on the 3rd\n",
    "def makeMap(run_name, year, variables=[]):\n",
    "    if(os.path.isfile(run_name + year + '.map') and len(variables) > 0):\n",
    "        os.remove(run_name + year + '.map')\n",
    "    try:\n",
    "        with open(run_name + year + '.map', 'w+') as mf:\n",
    "            for var in variables:\n",
    "                mf.write(str(var) + '\\n')\n",
    "    except:\n",
    "        print('Error writing .map file.')\n",
    "        raise"
   ]
  },
  {
   "cell_type": "code",
   "execution_count": 4,
   "id": "460a4b39",
   "metadata": {},
   "outputs": [],
   "source": [
    "# Cleans the SES format .csv file to keep it pandas-friendly\n",
    "# Specifically, removes comment lines and trailing space/commas\n",
    "def cleanSES(run_name, year):\n",
    "    try:\n",
    "        shutil.copy(run_name + year + '.csv', run_name + year + '-copy.csv')\n",
    "        with open(run_name + year + '.csv', 'w+') as tf:\n",
    "            with open(run_name + year + '-copy.csv', 'r') as sf:\n",
    "                lines = sf.readlines()\n",
    "                for line in lines:\n",
    "                    if(len(line.lstrip()) > 0 and line.lstrip()[0] == '!'): # Skipping comment lines\n",
    "                        continue\n",
    "                    tf.write(line.rstrip(', \\n') + '\\n')                    # Copying while stripping trailing commas and spaces\n",
    "        os.remove(run_name + year + '-copy.csv')\n",
    "    except:\n",
    "        print('Error cleaning .csv file.')\n",
    "        raise"
   ]
  },
  {
   "cell_type": "code",
   "execution_count": 5,
   "id": "7c6cfec3",
   "metadata": {},
   "outputs": [],
   "source": [
    "# Different sltoht.exe options produce CSV with different format \n",
    "# which requires different cleaning procedures\n",
    "def cleanCSV(run_name , year, csv_type):\n",
    "    csv_type = csv_type.upper()\n",
    "    if(csv_type == 'SES'):\n",
    "        cleanSES(run_name, year)\n",
    "    elif(csv_type == 'SSS'):\n",
    "        cleanSSS(run_name, year)\n",
    "    else:\n",
    "        print('Unknown CSV type')"
   ]
  },
  {
   "cell_type": "code",
   "execution_count": 6,
   "id": "29e49770",
   "metadata": {},
   "outputs": [],
   "source": [
    "run_name = 'SolutionFile/basb-brrr-'\n",
    "year = '2024'\n",
    "variables=['vgdp:EV']\n",
    "csv_type='SES'"
   ]
  },
  {
   "cell_type": "code",
   "execution_count": 7,
   "id": "8179ab44",
   "metadata": {},
   "outputs": [],
   "source": [
    "makeMap(run_name, year, variables)\n",
    "convertSolution(run_name, year, csv_type)\n",
    "cleanCSV(run_name, year, csv_type)"
   ]
  },
  {
   "cell_type": "code",
   "execution_count": null,
   "id": "31b463a6",
   "metadata": {},
   "outputs": [],
   "source": []
  }
 ],
 "metadata": {
  "kernelspec": {
   "display_name": "Python 3 (ipykernel)",
   "language": "python",
   "name": "python3"
  },
  "language_info": {
   "codemirror_mode": {
    "name": "ipython",
    "version": 3
   },
   "file_extension": ".py",
   "mimetype": "text/x-python",
   "name": "python",
   "nbconvert_exporter": "python",
   "pygments_lexer": "ipython3",
   "version": "3.9.7"
  }
 },
 "nbformat": 4,
 "nbformat_minor": 5
}
